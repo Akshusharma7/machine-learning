{
  "nbformat": 4,
  "nbformat_minor": 0,
  "metadata": {
    "colab": {
      "name": "ANN and CNN.ipynb",
      "provenance": [],
      "collapsed_sections": []
    },
    "kernelspec": {
      "name": "python3",
      "display_name": "Python 3"
    },
    "accelerator": "GPU"
  },
  "cells": [
    {
      "cell_type": "code",
      "metadata": {
        "id": "ZIWTuxsTDHH0",
        "colab_type": "code",
        "outputId": "a75ee96e-d565-4a88-ed05-9fe94806126c",
        "colab": {
          "resources": {
            "http://localhost:8080/nbextensions/google.colab/files.js": {
              "data": "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",
              "ok": true,
              "headers": [
                [
                  "content-type",
                  "application/javascript"
                ]
              ],
              "status": 200,
              "status_text": ""
            }
          },
          "base_uri": "https://localhost:8080/",
          "height": 74
        }
      },
      "source": [
        "from google.colab import files\n",
        "upload = files.upload()"
      ],
      "execution_count": 0,
      "outputs": [
        {
          "output_type": "display_data",
          "data": {
            "text/html": [
              "\n",
              "     <input type=\"file\" id=\"files-9373d002-8331-42cc-9b7c-b14623e3d6a7\" name=\"files[]\" multiple disabled />\n",
              "     <output id=\"result-9373d002-8331-42cc-9b7c-b14623e3d6a7\">\n",
              "      Upload widget is only available when the cell has been executed in the\n",
              "      current browser session. Please rerun this cell to enable.\n",
              "      </output>\n",
              "      <script src=\"/nbextensions/google.colab/files.js\"></script> "
            ],
            "text/plain": [
              "<IPython.core.display.HTML object>"
            ]
          },
          "metadata": {
            "tags": []
          }
        },
        {
          "output_type": "stream",
          "text": [
            "Saving chrun_modeling.csv to chrun_modeling (1).csv\n"
          ],
          "name": "stdout"
        }
      ]
    },
    {
      "cell_type": "code",
      "metadata": {
        "id": "LJmopvuKEdKQ",
        "colab_type": "code",
        "outputId": "6274aad1-abcd-47a3-f0cc-36fcff644af9",
        "colab": {
          "base_uri": "https://localhost:8080/",
          "height": 34
        }
      },
      "source": [
        "!ls\n"
      ],
      "execution_count": 0,
      "outputs": [
        {
          "output_type": "stream",
          "text": [
            "'chrun_modeling (1).csv'   chrun_modeling.csv   sample_data\n"
          ],
          "name": "stdout"
        }
      ]
    },
    {
      "cell_type": "code",
      "metadata": {
        "id": "PcS0jXepEmwd",
        "colab_type": "code",
        "outputId": "1bc6249c-5565-4f21-e8ce-b5b9c55dd23c",
        "colab": {
          "base_uri": "https://localhost:8080/",
          "height": 34
        }
      },
      "source": [
        "!pwd\n"
      ],
      "execution_count": 0,
      "outputs": [
        {
          "output_type": "stream",
          "text": [
            "/content\n"
          ],
          "name": "stdout"
        }
      ]
    },
    {
      "cell_type": "code",
      "metadata": {
        "id": "3li2-YLFE3lb",
        "colab_type": "code",
        "colab": {}
      },
      "source": [
        "import numpy as np\n",
        "import pandas as pd\n",
        "import matplotlib.pyplot as plt\n"
      ],
      "execution_count": 0,
      "outputs": []
    },
    {
      "cell_type": "code",
      "metadata": {
        "id": "uiWRsiQfE6ZA",
        "colab_type": "code",
        "outputId": "35160390-db5c-42c6-dc4d-cdc92b633a68",
        "colab": {
          "base_uri": "https://localhost:8080/",
          "height": 224
        }
      },
      "source": [
        "data = pd.read_csv('chrun_modeling.csv')\n",
        "data.head()"
      ],
      "execution_count": 0,
      "outputs": [
        {
          "output_type": "execute_result",
          "data": {
            "text/html": [
              "<div>\n",
              "<style scoped>\n",
              "    .dataframe tbody tr th:only-of-type {\n",
              "        vertical-align: middle;\n",
              "    }\n",
              "\n",
              "    .dataframe tbody tr th {\n",
              "        vertical-align: top;\n",
              "    }\n",
              "\n",
              "    .dataframe thead th {\n",
              "        text-align: right;\n",
              "    }\n",
              "</style>\n",
              "<table border=\"1\" class=\"dataframe\">\n",
              "  <thead>\n",
              "    <tr style=\"text-align: right;\">\n",
              "      <th></th>\n",
              "      <th>RowNumber</th>\n",
              "      <th>CustomerId</th>\n",
              "      <th>Surname</th>\n",
              "      <th>CreditScore</th>\n",
              "      <th>Geography</th>\n",
              "      <th>Gender</th>\n",
              "      <th>Age</th>\n",
              "      <th>Tenure</th>\n",
              "      <th>Balance</th>\n",
              "      <th>NumOfProducts</th>\n",
              "      <th>HasCrCard</th>\n",
              "      <th>IsActiveMember</th>\n",
              "      <th>EstimatedSalary</th>\n",
              "      <th>Exited</th>\n",
              "    </tr>\n",
              "  </thead>\n",
              "  <tbody>\n",
              "    <tr>\n",
              "      <th>0</th>\n",
              "      <td>1</td>\n",
              "      <td>15634602</td>\n",
              "      <td>Hargrave</td>\n",
              "      <td>619</td>\n",
              "      <td>France</td>\n",
              "      <td>Female</td>\n",
              "      <td>42</td>\n",
              "      <td>2</td>\n",
              "      <td>0.00</td>\n",
              "      <td>1</td>\n",
              "      <td>1</td>\n",
              "      <td>1</td>\n",
              "      <td>101348.88</td>\n",
              "      <td>1</td>\n",
              "    </tr>\n",
              "    <tr>\n",
              "      <th>1</th>\n",
              "      <td>2</td>\n",
              "      <td>15647311</td>\n",
              "      <td>Hill</td>\n",
              "      <td>608</td>\n",
              "      <td>Spain</td>\n",
              "      <td>Female</td>\n",
              "      <td>41</td>\n",
              "      <td>1</td>\n",
              "      <td>83807.86</td>\n",
              "      <td>1</td>\n",
              "      <td>0</td>\n",
              "      <td>1</td>\n",
              "      <td>112542.58</td>\n",
              "      <td>0</td>\n",
              "    </tr>\n",
              "    <tr>\n",
              "      <th>2</th>\n",
              "      <td>3</td>\n",
              "      <td>15619304</td>\n",
              "      <td>Onio</td>\n",
              "      <td>502</td>\n",
              "      <td>France</td>\n",
              "      <td>Female</td>\n",
              "      <td>42</td>\n",
              "      <td>8</td>\n",
              "      <td>159660.80</td>\n",
              "      <td>3</td>\n",
              "      <td>1</td>\n",
              "      <td>0</td>\n",
              "      <td>113931.57</td>\n",
              "      <td>1</td>\n",
              "    </tr>\n",
              "    <tr>\n",
              "      <th>3</th>\n",
              "      <td>4</td>\n",
              "      <td>15701354</td>\n",
              "      <td>Boni</td>\n",
              "      <td>699</td>\n",
              "      <td>France</td>\n",
              "      <td>Female</td>\n",
              "      <td>39</td>\n",
              "      <td>1</td>\n",
              "      <td>0.00</td>\n",
              "      <td>2</td>\n",
              "      <td>0</td>\n",
              "      <td>0</td>\n",
              "      <td>93826.63</td>\n",
              "      <td>0</td>\n",
              "    </tr>\n",
              "    <tr>\n",
              "      <th>4</th>\n",
              "      <td>5</td>\n",
              "      <td>15737888</td>\n",
              "      <td>Mitchell</td>\n",
              "      <td>850</td>\n",
              "      <td>Spain</td>\n",
              "      <td>Female</td>\n",
              "      <td>43</td>\n",
              "      <td>2</td>\n",
              "      <td>125510.82</td>\n",
              "      <td>1</td>\n",
              "      <td>1</td>\n",
              "      <td>1</td>\n",
              "      <td>79084.10</td>\n",
              "      <td>0</td>\n",
              "    </tr>\n",
              "  </tbody>\n",
              "</table>\n",
              "</div>"
            ],
            "text/plain": [
              "   RowNumber  CustomerId   Surname  ...  IsActiveMember EstimatedSalary Exited\n",
              "0          1    15634602  Hargrave  ...               1       101348.88      1\n",
              "1          2    15647311      Hill  ...               1       112542.58      0\n",
              "2          3    15619304      Onio  ...               0       113931.57      1\n",
              "3          4    15701354      Boni  ...               0        93826.63      0\n",
              "4          5    15737888  Mitchell  ...               1        79084.10      0\n",
              "\n",
              "[5 rows x 14 columns]"
            ]
          },
          "metadata": {
            "tags": []
          },
          "execution_count": 17
        }
      ]
    },
    {
      "cell_type": "code",
      "metadata": {
        "id": "L83ZS9CrFLaw",
        "colab_type": "code",
        "outputId": "19541556-e291-44d5-b09c-ec8eb4b3276e",
        "colab": {
          "base_uri": "https://localhost:8080/",
          "height": 394
        }
      },
      "source": [
        "print(\"Total shape   : \", data.shape)\n",
        "print(\"*\"*50)\n",
        "print(\"Total Columns : \", data.columns )\n",
        "print(\"*\"*50)\n",
        "print(data.info)"
      ],
      "execution_count": 0,
      "outputs": [
        {
          "output_type": "stream",
          "text": [
            "Total shape   :  (10000, 14)\n",
            "**************************************************\n",
            "Total Columns :  Index(['RowNumber', 'CustomerId', 'Surname', 'CreditScore', 'Geography',\n",
            "       'Gender', 'Age', 'Tenure', 'Balance', 'NumOfProducts', 'HasCrCard',\n",
            "       'IsActiveMember', 'EstimatedSalary', 'Exited'],\n",
            "      dtype='object')\n",
            "**************************************************\n",
            "<bound method DataFrame.info of       RowNumber  CustomerId    Surname  ...  IsActiveMember EstimatedSalary Exited\n",
            "0             1    15634602   Hargrave  ...               1       101348.88      1\n",
            "1             2    15647311       Hill  ...               1       112542.58      0\n",
            "2             3    15619304       Onio  ...               0       113931.57      1\n",
            "3             4    15701354       Boni  ...               0        93826.63      0\n",
            "4             5    15737888   Mitchell  ...               1        79084.10      0\n",
            "...         ...         ...        ...  ...             ...             ...    ...\n",
            "9995       9996    15606229   Obijiaku  ...               0        96270.64      0\n",
            "9996       9997    15569892  Johnstone  ...               1       101699.77      0\n",
            "9997       9998    15584532        Liu  ...               1        42085.58      1\n",
            "9998       9999    15682355  Sabbatini  ...               0        92888.52      1\n",
            "9999      10000    15628319     Walker  ...               0        38190.78      0\n",
            "\n",
            "[10000 rows x 14 columns]>\n"
          ],
          "name": "stdout"
        }
      ]
    },
    {
      "cell_type": "code",
      "metadata": {
        "id": "-p5kBv2kFsaA",
        "colab_type": "code",
        "outputId": "f55f077a-19d1-4dfa-cc15-0b46462cb102",
        "colab": {
          "base_uri": "https://localhost:8080/",
          "height": 34
        }
      },
      "source": [
        "X = data.iloc[:,3:13].values\n",
        "y = data.iloc[:,13].values\n",
        "len(X[:10][0])"
      ],
      "execution_count": 0,
      "outputs": [
        {
          "output_type": "execute_result",
          "data": {
            "text/plain": [
              "10"
            ]
          },
          "metadata": {
            "tags": []
          },
          "execution_count": 37
        }
      ]
    },
    {
      "cell_type": "code",
      "metadata": {
        "id": "rZa6lnJjHVUB",
        "colab_type": "code",
        "colab": {}
      },
      "source": [
        "from sklearn.preprocessing import LabelEncoder, OneHotEncoder\n",
        "from sklearn.compose import ColumnTransformer\n"
      ],
      "execution_count": 0,
      "outputs": []
    },
    {
      "cell_type": "code",
      "metadata": {
        "id": "G9frrX9bI5Bz",
        "colab_type": "code",
        "colab": {}
      },
      "source": [
        "label_encoder_x_1 = LabelEncoder()\n",
        "X[:,1] = label_encoder_x_1.fit_transform(X[:,1])\n",
        "\n",
        "label_encoder_x_2 = LabelEncoder()\n",
        "X[:,2] = label_encoder_x_2.fit_transform(X[:,2])\n",
        "\n",
        "tranformer = ColumnTransformer(transformers=[(\"Geography\", OneHotEncoder(), [1])], remainder='passthrough')\n",
        "X = tranformer.fit_transform(X.tolist())\n",
        "X = X.astype('float64') "
      ],
      "execution_count": 0,
      "outputs": []
    },
    {
      "cell_type": "code",
      "metadata": {
        "id": "fn3klEiGSpQ5",
        "colab_type": "code",
        "outputId": "4bfe8873-d233-4b20-88e4-93fdd075f47b",
        "colab": {
          "base_uri": "https://localhost:8080/",
          "height": 68
        }
      },
      "source": [
        "X[:5][0]"
      ],
      "execution_count": 0,
      "outputs": [
        {
          "output_type": "execute_result",
          "data": {
            "text/plain": [
              "array([1.0000000e+00, 0.0000000e+00, 0.0000000e+00, 6.1900000e+02,\n",
              "       0.0000000e+00, 4.2000000e+01, 2.0000000e+00, 0.0000000e+00,\n",
              "       1.0000000e+00, 1.0000000e+00, 1.0000000e+00, 1.0134888e+05])"
            ]
          },
          "metadata": {
            "tags": []
          },
          "execution_count": 39
        }
      ]
    },
    {
      "cell_type": "code",
      "metadata": {
        "id": "KUdDPNutS4Q2",
        "colab_type": "code",
        "colab": {}
      },
      "source": [
        "from sklearn.model_selection import train_test_split\n"
      ],
      "execution_count": 0,
      "outputs": []
    },
    {
      "cell_type": "code",
      "metadata": {
        "id": "cyCeNJsvTTyJ",
        "colab_type": "code",
        "colab": {}
      },
      "source": [
        "X_train, X_test, y_train, y_test = train_test_split(X,y, test_size=0.2, random_state=0)"
      ],
      "execution_count": 0,
      "outputs": []
    },
    {
      "cell_type": "code",
      "metadata": {
        "id": "68OeC08pT-Vq",
        "colab_type": "code",
        "colab": {}
      },
      "source": [
        "from sklearn.preprocessing import StandardScaler"
      ],
      "execution_count": 0,
      "outputs": []
    },
    {
      "cell_type": "code",
      "metadata": {
        "id": "-Jr_8mdbUXmS",
        "colab_type": "code",
        "colab": {}
      },
      "source": [
        "sc = StandardScaler()\n",
        "x_train = sc.fit_transform(X_train)\n",
        "X_test = sc.transform(X_test)"
      ],
      "execution_count": 0,
      "outputs": []
    },
    {
      "cell_type": "code",
      "metadata": {
        "id": "RHpDz9BuUu3m",
        "colab_type": "code",
        "colab": {}
      },
      "source": [
        ""
      ],
      "execution_count": 0,
      "outputs": []
    },
    {
      "cell_type": "markdown",
      "metadata": {
        "id": "fWDbt20dVKNY",
        "colab_type": "text"
      },
      "source": [
        "Model Building using Keras"
      ]
    },
    {
      "cell_type": "code",
      "metadata": {
        "id": "7QKdJ1gGVOo-",
        "colab_type": "code",
        "outputId": "d68b497b-c2cd-4623-fafd-58f66f2abe45",
        "colab": {
          "base_uri": "https://localhost:8080/",
          "height": 97
        }
      },
      "source": [
        "import keras"
      ],
      "execution_count": 0,
      "outputs": [
        {
          "output_type": "stream",
          "text": [
            "Using TensorFlow backend.\n"
          ],
          "name": "stderr"
        },
        {
          "output_type": "display_data",
          "data": {
            "text/html": [
              "<p style=\"color: red;\">\n",
              "The default version of TensorFlow in Colab will soon switch to TensorFlow 2.x.<br>\n",
              "We recommend you <a href=\"https://www.tensorflow.org/guide/migrate\" target=\"_blank\">upgrade</a> now \n",
              "or ensure your notebook will continue to use TensorFlow 1.x via the <code>%tensorflow_version 1.x</code> magic:\n",
              "<a href=\"https://colab.research.google.com/notebooks/tensorflow_version.ipynb\" target=\"_blank\">more info</a>.</p>\n"
            ],
            "text/plain": [
              "<IPython.core.display.HTML object>"
            ]
          },
          "metadata": {
            "tags": []
          }
        }
      ]
    },
    {
      "cell_type": "code",
      "metadata": {
        "id": "6cE6wrODVTBP",
        "colab_type": "code",
        "colab": {}
      },
      "source": [
        "from keras.models import  Sequential\n",
        "from keras.layers import Dense"
      ],
      "execution_count": 0,
      "outputs": []
    },
    {
      "cell_type": "code",
      "metadata": {
        "id": "-dW0LqM7Vkn7",
        "colab_type": "code",
        "outputId": "27036962-02f4-45b2-b95c-a5ecf4ce3f80",
        "colab": {
          "base_uri": "https://localhost:8080/",
          "height": 139
        }
      },
      "source": [
        "cls= Sequential()\n",
        "\n",
        "#Input layers\n",
        "cls.add(Dense(output_dim=6, init = 'uniform', activation='relu', input_dim = 12))\n",
        "\n",
        "#Middle or Hidden Layers\n",
        "cls.add(Dense(output_dim = 6, init= 'uniform', activation= 'relu'))\n",
        "\n",
        "# Output Layers\n",
        "cls.add(Dense(output_dim = 1, init='uniform', activation= 'sigmoid'))\n",
        "\n",
        "#Compile model\n",
        "cls.compile(optimizer = 'adam', loss = 'binary_crossentropy', metrics = ['accuracy'])\n"
      ],
      "execution_count": 0,
      "outputs": [
        {
          "output_type": "stream",
          "text": [
            "/usr/local/lib/python3.6/dist-packages/ipykernel_launcher.py:4: UserWarning: Update your `Dense` call to the Keras 2 API: `Dense(activation=\"relu\", input_dim=12, units=6, kernel_initializer=\"uniform\")`\n",
            "  after removing the cwd from sys.path.\n",
            "/usr/local/lib/python3.6/dist-packages/ipykernel_launcher.py:7: UserWarning: Update your `Dense` call to the Keras 2 API: `Dense(activation=\"relu\", units=6, kernel_initializer=\"uniform\")`\n",
            "  import sys\n",
            "/usr/local/lib/python3.6/dist-packages/ipykernel_launcher.py:10: UserWarning: Update your `Dense` call to the Keras 2 API: `Dense(activation=\"sigmoid\", units=1, kernel_initializer=\"uniform\")`\n",
            "  # Remove the CWD from sys.path while we load stuff.\n"
          ],
          "name": "stderr"
        }
      ]
    },
    {
      "cell_type": "code",
      "metadata": {
        "id": "BGW8KhjWaXQ8",
        "colab_type": "code",
        "outputId": "7fa26b42-77e5-4b17-e636-d661a09ceaf3",
        "colab": {
          "base_uri": "https://localhost:8080/",
          "height": 1000
        }
      },
      "source": [
        "## Traning the model now\n",
        "cls.fit(X_train, y_train, batch_size=20, epochs=100)\n"
      ],
      "execution_count": 0,
      "outputs": [
        {
          "output_type": "stream",
          "text": [
            "WARNING:tensorflow:From /usr/local/lib/python3.6/dist-packages/keras/backend/tensorflow_backend.py:1033: The name tf.assign_add is deprecated. Please use tf.compat.v1.assign_add instead.\n",
            "\n",
            "WARNING:tensorflow:From /usr/local/lib/python3.6/dist-packages/keras/backend/tensorflow_backend.py:1020: The name tf.assign is deprecated. Please use tf.compat.v1.assign instead.\n",
            "\n",
            "WARNING:tensorflow:From /usr/local/lib/python3.6/dist-packages/keras/backend/tensorflow_backend.py:3005: The name tf.Session is deprecated. Please use tf.compat.v1.Session instead.\n",
            "\n",
            "Epoch 1/100\n",
            "WARNING:tensorflow:From /usr/local/lib/python3.6/dist-packages/keras/backend/tensorflow_backend.py:190: The name tf.get_default_session is deprecated. Please use tf.compat.v1.get_default_session instead.\n",
            "\n",
            "WARNING:tensorflow:From /usr/local/lib/python3.6/dist-packages/keras/backend/tensorflow_backend.py:197: The name tf.ConfigProto is deprecated. Please use tf.compat.v1.ConfigProto instead.\n",
            "\n",
            "WARNING:tensorflow:From /usr/local/lib/python3.6/dist-packages/keras/backend/tensorflow_backend.py:207: The name tf.global_variables is deprecated. Please use tf.compat.v1.global_variables instead.\n",
            "\n",
            "WARNING:tensorflow:From /usr/local/lib/python3.6/dist-packages/keras/backend/tensorflow_backend.py:216: The name tf.is_variable_initialized is deprecated. Please use tf.compat.v1.is_variable_initialized instead.\n",
            "\n",
            "WARNING:tensorflow:From /usr/local/lib/python3.6/dist-packages/keras/backend/tensorflow_backend.py:223: The name tf.variables_initializer is deprecated. Please use tf.compat.v1.variables_initializer instead.\n",
            "\n",
            "8000/8000 [==============================] - 10s 1ms/step - loss: 0.5632 - acc: 0.7876\n",
            "Epoch 2/100\n",
            "8000/8000 [==============================] - 2s 247us/step - loss: 0.5219 - acc: 0.7960\n",
            "Epoch 3/100\n",
            "8000/8000 [==============================] - 2s 247us/step - loss: 0.5176 - acc: 0.7960\n",
            "Epoch 4/100\n",
            "8000/8000 [==============================] - 2s 224us/step - loss: 0.5139 - acc: 0.7960\n",
            "Epoch 5/100\n",
            "8000/8000 [==============================] - 2s 240us/step - loss: 0.5090 - acc: 0.7960\n",
            "Epoch 6/100\n",
            "8000/8000 [==============================] - 2s 213us/step - loss: 0.5066 - acc: 0.7960\n",
            "Epoch 7/100\n",
            "8000/8000 [==============================] - 2s 248us/step - loss: 0.5064 - acc: 0.7960\n",
            "Epoch 8/100\n",
            "8000/8000 [==============================] - 2s 239us/step - loss: 0.5061 - acc: 0.7960\n",
            "Epoch 9/100\n",
            "8000/8000 [==============================] - 2s 238us/step - loss: 0.5047 - acc: 0.7960\n",
            "Epoch 10/100\n",
            "8000/8000 [==============================] - 2s 235us/step - loss: 0.5067 - acc: 0.7960\n",
            "Epoch 11/100\n",
            "8000/8000 [==============================] - 2s 242us/step - loss: 0.5073 - acc: 0.7960\n",
            "Epoch 12/100\n",
            "8000/8000 [==============================] - 2s 256us/step - loss: 0.5029 - acc: 0.7960\n",
            "Epoch 13/100\n",
            "8000/8000 [==============================] - 2s 233us/step - loss: 0.5013 - acc: 0.7960\n",
            "Epoch 14/100\n",
            "8000/8000 [==============================] - 2s 236us/step - loss: 0.5007 - acc: 0.7960\n",
            "Epoch 15/100\n",
            "8000/8000 [==============================] - 2s 227us/step - loss: 0.5008 - acc: 0.7960\n",
            "Epoch 16/100\n",
            "8000/8000 [==============================] - 2s 235us/step - loss: 0.5009 - acc: 0.7960\n",
            "Epoch 17/100\n",
            "8000/8000 [==============================] - 2s 254us/step - loss: 0.5012 - acc: 0.7960\n",
            "Epoch 18/100\n",
            "8000/8000 [==============================] - 2s 223us/step - loss: 0.5002 - acc: 0.7960\n",
            "Epoch 19/100\n",
            "8000/8000 [==============================] - 2s 251us/step - loss: 0.4995 - acc: 0.7960\n",
            "Epoch 20/100\n",
            "8000/8000 [==============================] - 2s 241us/step - loss: 0.4996 - acc: 0.7960\n",
            "Epoch 21/100\n",
            "8000/8000 [==============================] - 2s 234us/step - loss: 0.5001 - acc: 0.7960\n",
            "Epoch 22/100\n",
            "8000/8000 [==============================] - 2s 234us/step - loss: 0.4999 - acc: 0.7960\n",
            "Epoch 23/100\n",
            "8000/8000 [==============================] - 2s 246us/step - loss: 0.4994 - acc: 0.7960\n",
            "Epoch 24/100\n",
            "8000/8000 [==============================] - 2s 240us/step - loss: 0.4991 - acc: 0.7960\n",
            "Epoch 25/100\n",
            "8000/8000 [==============================] - 2s 244us/step - loss: 0.4993 - acc: 0.7960\n",
            "Epoch 26/100\n",
            "8000/8000 [==============================] - 2s 234us/step - loss: 0.5004 - acc: 0.7960\n",
            "Epoch 27/100\n",
            "8000/8000 [==============================] - 2s 235us/step - loss: 0.4993 - acc: 0.7960\n",
            "Epoch 28/100\n",
            "8000/8000 [==============================] - 2s 249us/step - loss: 0.4998 - acc: 0.7960\n",
            "Epoch 29/100\n",
            "8000/8000 [==============================] - 2s 240us/step - loss: 0.4995 - acc: 0.7960\n",
            "Epoch 30/100\n",
            "8000/8000 [==============================] - 2s 221us/step - loss: 0.4994 - acc: 0.7960\n",
            "Epoch 31/100\n",
            "8000/8000 [==============================] - 2s 247us/step - loss: 0.4995 - acc: 0.7960\n",
            "Epoch 32/100\n",
            "8000/8000 [==============================] - 2s 230us/step - loss: 0.4996 - acc: 0.7960\n",
            "Epoch 33/100\n",
            "8000/8000 [==============================] - 2s 244us/step - loss: 0.5009 - acc: 0.7960\n",
            "Epoch 34/100\n",
            "8000/8000 [==============================] - 2s 237us/step - loss: 0.5001 - acc: 0.7960\n",
            "Epoch 35/100\n",
            "8000/8000 [==============================] - 2s 217us/step - loss: 0.5001 - acc: 0.7960\n",
            "Epoch 36/100\n",
            "8000/8000 [==============================] - 2s 232us/step - loss: 0.4999 - acc: 0.7960\n",
            "Epoch 37/100\n",
            "8000/8000 [==============================] - 2s 215us/step - loss: 0.4988 - acc: 0.7960\n",
            "Epoch 38/100\n",
            "8000/8000 [==============================] - 2s 229us/step - loss: 0.4994 - acc: 0.7960\n",
            "Epoch 39/100\n",
            "8000/8000 [==============================] - 2s 232us/step - loss: 0.4994 - acc: 0.7960\n",
            "Epoch 40/100\n",
            "8000/8000 [==============================] - 2s 230us/step - loss: 0.4985 - acc: 0.7960\n",
            "Epoch 41/100\n",
            "8000/8000 [==============================] - 2s 211us/step - loss: 0.4987 - acc: 0.7960\n",
            "Epoch 42/100\n",
            "8000/8000 [==============================] - 2s 252us/step - loss: 0.4987 - acc: 0.7960\n",
            "Epoch 43/100\n",
            "8000/8000 [==============================] - 2s 247us/step - loss: 0.4991 - acc: 0.7960\n",
            "Epoch 44/100\n",
            "8000/8000 [==============================] - 2s 238us/step - loss: 0.4987 - acc: 0.7960\n",
            "Epoch 45/100\n",
            "8000/8000 [==============================] - 2s 213us/step - loss: 0.4981 - acc: 0.7960\n",
            "Epoch 46/100\n",
            "8000/8000 [==============================] - 2s 223us/step - loss: 0.4994 - acc: 0.7960\n",
            "Epoch 47/100\n",
            "8000/8000 [==============================] - 2s 245us/step - loss: 0.4985 - acc: 0.7960\n",
            "Epoch 48/100\n",
            "8000/8000 [==============================] - 2s 236us/step - loss: 0.5005 - acc: 0.7960\n",
            "Epoch 49/100\n",
            "8000/8000 [==============================] - 2s 230us/step - loss: 0.5053 - acc: 0.7960\n",
            "Epoch 50/100\n",
            "8000/8000 [==============================] - 2s 233us/step - loss: 0.5052 - acc: 0.7960\n",
            "Epoch 51/100\n",
            "8000/8000 [==============================] - 2s 239us/step - loss: 0.5046 - acc: 0.7960\n",
            "Epoch 52/100\n",
            "8000/8000 [==============================] - 2s 221us/step - loss: 0.4989 - acc: 0.7960\n",
            "Epoch 53/100\n",
            "8000/8000 [==============================] - 2s 231us/step - loss: 0.4994 - acc: 0.7960\n",
            "Epoch 54/100\n",
            "8000/8000 [==============================] - 2s 232us/step - loss: 0.4991 - acc: 0.7960\n",
            "Epoch 55/100\n",
            "8000/8000 [==============================] - 2s 236us/step - loss: 0.4984 - acc: 0.7960\n",
            "Epoch 56/100\n",
            "8000/8000 [==============================] - 2s 242us/step - loss: 0.4999 - acc: 0.7960\n",
            "Epoch 57/100\n",
            "8000/8000 [==============================] - 2s 226us/step - loss: 0.4993 - acc: 0.7960\n",
            "Epoch 58/100\n",
            "8000/8000 [==============================] - 2s 249us/step - loss: 0.4988 - acc: 0.7960\n",
            "Epoch 59/100\n",
            "8000/8000 [==============================] - 2s 246us/step - loss: 0.4984 - acc: 0.7960\n",
            "Epoch 60/100\n",
            "8000/8000 [==============================] - 2s 235us/step - loss: 0.4995 - acc: 0.7960\n",
            "Epoch 61/100\n",
            "8000/8000 [==============================] - 2s 240us/step - loss: 0.4987 - acc: 0.7960\n",
            "Epoch 62/100\n",
            "8000/8000 [==============================] - 2s 239us/step - loss: 0.4982 - acc: 0.7960\n",
            "Epoch 63/100\n",
            "8000/8000 [==============================] - 2s 241us/step - loss: 0.4987 - acc: 0.7960\n",
            "Epoch 64/100\n",
            "8000/8000 [==============================] - 2s 213us/step - loss: 0.4994 - acc: 0.7960\n",
            "Epoch 65/100\n",
            "8000/8000 [==============================] - 2s 249us/step - loss: 0.4982 - acc: 0.7960\n",
            "Epoch 66/100\n",
            "8000/8000 [==============================] - 2s 231us/step - loss: 0.5007 - acc: 0.7960\n",
            "Epoch 67/100\n",
            "8000/8000 [==============================] - 2s 238us/step - loss: 0.5002 - acc: 0.7960\n",
            "Epoch 68/100\n",
            "8000/8000 [==============================] - 2s 230us/step - loss: 0.4995 - acc: 0.7960\n",
            "Epoch 69/100\n",
            "8000/8000 [==============================] - 2s 218us/step - loss: 0.4992 - acc: 0.7960\n",
            "Epoch 70/100\n",
            "8000/8000 [==============================] - 2s 227us/step - loss: 0.4990 - acc: 0.7960\n",
            "Epoch 71/100\n",
            "8000/8000 [==============================] - 2s 232us/step - loss: 0.4988 - acc: 0.7960\n",
            "Epoch 72/100\n",
            "8000/8000 [==============================] - 2s 213us/step - loss: 0.4986 - acc: 0.7960\n",
            "Epoch 73/100\n",
            "8000/8000 [==============================] - 2s 221us/step - loss: 0.4985 - acc: 0.7960\n",
            "Epoch 74/100\n",
            "8000/8000 [==============================] - 2s 236us/step - loss: 0.4984 - acc: 0.7960\n",
            "Epoch 75/100\n",
            "8000/8000 [==============================] - 2s 216us/step - loss: 0.4984 - acc: 0.7960\n",
            "Epoch 76/100\n",
            "8000/8000 [==============================] - 2s 227us/step - loss: 0.4984 - acc: 0.7960\n",
            "Epoch 77/100\n",
            "8000/8000 [==============================] - 2s 230us/step - loss: 0.4983 - acc: 0.7960\n",
            "Epoch 78/100\n",
            "8000/8000 [==============================] - 2s 220us/step - loss: 0.4983 - acc: 0.7960\n",
            "Epoch 79/100\n",
            "8000/8000 [==============================] - 2s 258us/step - loss: 0.4983 - acc: 0.7960\n",
            "Epoch 80/100\n",
            "8000/8000 [==============================] - 2s 249us/step - loss: 0.4982 - acc: 0.7960\n",
            "Epoch 81/100\n",
            "8000/8000 [==============================] - 2s 239us/step - loss: 0.4982 - acc: 0.7960\n",
            "Epoch 82/100\n",
            "8000/8000 [==============================] - 2s 239us/step - loss: 0.4982 - acc: 0.7960\n",
            "Epoch 83/100\n",
            "8000/8000 [==============================] - 2s 230us/step - loss: 0.4982 - acc: 0.7960\n",
            "Epoch 84/100\n",
            "8000/8000 [==============================] - 2s 218us/step - loss: 0.4981 - acc: 0.7960\n",
            "Epoch 85/100\n",
            "8000/8000 [==============================] - 2s 221us/step - loss: 0.4982 - acc: 0.7960\n",
            "Epoch 86/100\n",
            "8000/8000 [==============================] - 2s 240us/step - loss: 0.4981 - acc: 0.7960\n",
            "Epoch 87/100\n",
            "8000/8000 [==============================] - 2s 256us/step - loss: 0.4982 - acc: 0.7960\n",
            "Epoch 88/100\n",
            "8000/8000 [==============================] - 2s 247us/step - loss: 0.4981 - acc: 0.7960\n",
            "Epoch 89/100\n",
            "8000/8000 [==============================] - 2s 233us/step - loss: 0.4981 - acc: 0.7960\n",
            "Epoch 90/100\n",
            "8000/8000 [==============================] - 2s 246us/step - loss: 0.4982 - acc: 0.7960\n",
            "Epoch 91/100\n",
            "8000/8000 [==============================] - 2s 240us/step - loss: 0.4981 - acc: 0.7960\n",
            "Epoch 92/100\n",
            "8000/8000 [==============================] - 2s 245us/step - loss: 0.4982 - acc: 0.7960\n",
            "Epoch 93/100\n",
            "8000/8000 [==============================] - 2s 226us/step - loss: 0.4981 - acc: 0.7960\n",
            "Epoch 94/100\n",
            "8000/8000 [==============================] - 2s 226us/step - loss: 0.4981 - acc: 0.7960\n",
            "Epoch 95/100\n",
            "8000/8000 [==============================] - 2s 240us/step - loss: 0.4981 - acc: 0.7960\n",
            "Epoch 96/100\n",
            "8000/8000 [==============================] - 2s 214us/step - loss: 0.4981 - acc: 0.7960\n",
            "Epoch 97/100\n",
            "8000/8000 [==============================] - 2s 247us/step - loss: 0.4981 - acc: 0.7960\n",
            "Epoch 98/100\n",
            "8000/8000 [==============================] - 2s 244us/step - loss: 0.4982 - acc: 0.7960\n",
            "Epoch 99/100\n",
            "8000/8000 [==============================] - 2s 229us/step - loss: 0.4981 - acc: 0.7960\n",
            "Epoch 100/100\n",
            "8000/8000 [==============================] - 2s 226us/step - loss: 0.4981 - acc: 0.7960\n"
          ],
          "name": "stdout"
        },
        {
          "output_type": "execute_result",
          "data": {
            "text/plain": [
              "<keras.callbacks.History at 0x7f7fb5a49710>"
            ]
          },
          "metadata": {
            "tags": []
          },
          "execution_count": 44
        }
      ]
    },
    {
      "cell_type": "code",
      "metadata": {
        "id": "HU2hbroFbG2X",
        "colab_type": "code",
        "outputId": "28ec41a1-b6da-42d6-8737-4a357a3e07c6",
        "colab": {
          "base_uri": "https://localhost:8080/",
          "height": 136
        }
      },
      "source": [
        "y_pred = cls.predict(X_test)\n",
        "y_pred = (y_pred > 0.5)\n",
        "y_pred"
      ],
      "execution_count": 0,
      "outputs": [
        {
          "output_type": "execute_result",
          "data": {
            "text/plain": [
              "array([[False],\n",
              "       [False],\n",
              "       [False],\n",
              "       ...,\n",
              "       [False],\n",
              "       [False],\n",
              "       [False]])"
            ]
          },
          "metadata": {
            "tags": []
          },
          "execution_count": 46
        }
      ]
    },
    {
      "cell_type": "code",
      "metadata": {
        "id": "A293NuvjdD_Y",
        "colab_type": "code",
        "outputId": "ca85fc22-bec2-4bbc-d5b9-9072d072ab22",
        "colab": {
          "base_uri": "https://localhost:8080/",
          "height": 34
        }
      },
      "source": [
        "len(y_pred)"
      ],
      "execution_count": 0,
      "outputs": [
        {
          "output_type": "execute_result",
          "data": {
            "text/plain": [
              "2000"
            ]
          },
          "metadata": {
            "tags": []
          },
          "execution_count": 47
        }
      ]
    },
    {
      "cell_type": "code",
      "metadata": {
        "id": "JSxITPG9dR43",
        "colab_type": "code",
        "colab": {}
      },
      "source": [
        "from sklearn.metrics import confusion_matrix"
      ],
      "execution_count": 0,
      "outputs": []
    },
    {
      "cell_type": "code",
      "metadata": {
        "id": "BCGrDgKjdXDS",
        "colab_type": "code",
        "outputId": "d0a20456-9b36-424a-af71-5560a82453c0",
        "colab": {
          "base_uri": "https://localhost:8080/",
          "height": 51
        }
      },
      "source": [
        "cm = confusion_matrix(y_test, y_pred)\n",
        "cm"
      ],
      "execution_count": 0,
      "outputs": [
        {
          "output_type": "execute_result",
          "data": {
            "text/plain": [
              "array([[1595,    0],\n",
              "       [ 405,    0]])"
            ]
          },
          "metadata": {
            "tags": []
          },
          "execution_count": 49
        }
      ]
    },
    {
      "cell_type": "code",
      "metadata": {
        "id": "IJaOL1z7dfaW",
        "colab_type": "code",
        "colab": {}
      },
      "source": [
        "from sklearn.metrics import accuracy_score"
      ],
      "execution_count": 0,
      "outputs": []
    },
    {
      "cell_type": "code",
      "metadata": {
        "id": "rhrP-Cu4dsXu",
        "colab_type": "code",
        "outputId": "f54a9c5f-7066-4071-9d5c-2b322fa47369",
        "colab": {
          "base_uri": "https://localhost:8080/",
          "height": 34
        }
      },
      "source": [
        "ac = accuracy_score(y_test, y_pred)\n",
        "ac*100"
      ],
      "execution_count": 0,
      "outputs": [
        {
          "output_type": "execute_result",
          "data": {
            "text/plain": [
              "79.75"
            ]
          },
          "metadata": {
            "tags": []
          },
          "execution_count": 53
        }
      ]
    },
    {
      "cell_type": "code",
      "metadata": {
        "id": "nujNqaTxdywS",
        "colab_type": "code",
        "colab": {}
      },
      "source": [
        "## CNN algorithm"
      ],
      "execution_count": 0,
      "outputs": []
    },
    {
      "cell_type": "code",
      "metadata": {
        "id": "aA5AEYqlrAKz",
        "colab_type": "code",
        "colab": {}
      },
      "source": [
        "import keras\n",
        "import tensorflow as tf\n",
        "from keras.datasets import cifar10\n",
        "from tensorflow import keras\n",
        "import numpy as np\n",
        "from tensorflow.keras.optimizers import RMSprop"
      ],
      "execution_count": 0,
      "outputs": []
    },
    {
      "cell_type": "code",
      "metadata": {
        "id": "B9pXYjekrCBR",
        "colab_type": "code",
        "colab": {}
      },
      "source": [
        "(x_train, y_train), (x_test,y_test) = cifar10.load_data()"
      ],
      "execution_count": 0,
      "outputs": []
    },
    {
      "cell_type": "code",
      "metadata": {
        "id": "sLSjoc3FrCEH",
        "colab_type": "code",
        "colab": {}
      },
      "source": [
        "import matplotlib.pyplot as plt\n"
      ],
      "execution_count": 0,
      "outputs": []
    },
    {
      "cell_type": "code",
      "metadata": {
        "id": "sFUYkpKmrCHf",
        "colab_type": "code",
        "colab": {
          "base_uri": "https://localhost:8080/",
          "height": 283
        },
        "outputId": "c75c343a-8fc1-453c-e391-26d84d567401"
      },
      "source": [
        "plt.imshow(x_train[11])"
      ],
      "execution_count": 21,
      "outputs": [
        {
          "output_type": "execute_result",
          "data": {
            "text/plain": [
              "<matplotlib.image.AxesImage at 0x7f11806185c0>"
            ]
          },
          "metadata": {
            "tags": []
          },
          "execution_count": 21
        },
        {
          "output_type": "display_data",
          "data": {
            "image/png": "[encoded data removed]",
            "text/plain": [
              "<Figure size 432x288 with 1 Axes>"
            ]
          },
          "metadata": {
            "tags": []
          }
        }
      ]
    },
    {
      "cell_type": "code",
      "metadata": {
        "id": "0iWtoG-or8w9",
        "colab_type": "code",
        "colab": {
          "base_uri": "https://localhost:8080/",
          "height": 850
        },
        "outputId": "f644180f-ce02-4f4b-cfdb-c31098226606"
      },
      "source": [
        "print(x_train[11])"
      ],
      "execution_count": 22,
      "outputs": [
        {
          "output_type": "stream",
          "text": [
            "[[[142 149 152]\n",
            "  [172 172 167]\n",
            "  [176 168 154]\n",
            "  ...\n",
            "  [216 212 211]\n",
            "  [198 194 193]\n",
            "  [205 202 200]]\n",
            "\n",
            " [[191 190 192]\n",
            "  [196 192 190]\n",
            "  [174 166 159]\n",
            "  ...\n",
            "  [229 222 220]\n",
            "  [222 215 213]\n",
            "  [217 210 207]]\n",
            "\n",
            " [[220 212 212]\n",
            "  [217 209 208]\n",
            "  [192 183 182]\n",
            "  ...\n",
            "  [224 214 209]\n",
            "  [225 214 210]\n",
            "  [218 208 203]]\n",
            "\n",
            " ...\n",
            "\n",
            " [[197 152 136]\n",
            "  [196 152 135]\n",
            "  [201 156 140]\n",
            "  ...\n",
            "  [200 165 146]\n",
            "  [199 165 146]\n",
            "  [205 164 150]]\n",
            "\n",
            " [[196 157 139]\n",
            "  [191 152 135]\n",
            "  [193 154 136]\n",
            "  ...\n",
            "  [198 164 144]\n",
            "  [199 165 145]\n",
            "  [201 161 146]]\n",
            "\n",
            " [[186 150 133]\n",
            "  [182 147 130]\n",
            "  [174 139 121]\n",
            "  ...\n",
            "  [158 124 105]\n",
            "  [158 125 106]\n",
            "  [163 125 111]]]\n"
          ],
          "name": "stdout"
        }
      ]
    },
    {
      "cell_type": "code",
      "metadata": {
        "id": "5DWl2Jj2sKR1",
        "colab_type": "code",
        "colab": {
          "base_uri": "https://localhost:8080/",
          "height": 34
        },
        "outputId": "d5b9ac5e-e4d3-4d3d-b373-2b0479fb0aaf"
      },
      "source": [
        "print(y_train[11])"
      ],
      "execution_count": 23,
      "outputs": [
        {
          "output_type": "stream",
          "text": [
            "[7]\n"
          ],
          "name": "stdout"
        }
      ]
    },
    {
      "cell_type": "code",
      "metadata": {
        "id": "fXEzLTZPsSs3",
        "colab_type": "code",
        "colab": {
          "base_uri": "https://localhost:8080/",
          "height": 51
        },
        "outputId": "4d5370c7-767b-4d35-959e-bc871e39d4a4"
      },
      "source": [
        "num_classes = 10\n",
        "print(\"Before :\", y_test[0])\n",
        "\n",
        "y_train = keras.utils.to_categorical(y_train,num_classes)\n",
        "y_test = keras.utils.to_categorical(y_test,num_classes)\n",
        "\n",
        "print(\"After :\", y_test[0])\n",
        "\n",
        "x_train = x_train/255.0\n",
        "x_test = x_test/255.0\n",
        "\n",
        "#print(y_train[11])\n"
      ],
      "execution_count": 24,
      "outputs": [
        {
          "output_type": "stream",
          "text": [
            "Before : [3]\n",
            "After : [0. 0. 0. 1. 0. 0. 0. 0. 0. 0.]\n"
          ],
          "name": "stdout"
        }
      ]
    },
    {
      "cell_type": "code",
      "metadata": {
        "id": "aBag-gmVwLR8",
        "colab_type": "code",
        "colab": {}
      },
      "source": [
        "## Model initilization\n",
        "model = tf.keras.models.Sequential([tf.keras.layers.Flatten(),\n",
        "                                    tf.keras.layers.Dense(1024, activation=tf.nn.relu),\n",
        "                                    tf.keras.layers.Dense(1024, activation=tf.nn.relu),\n",
        "                                    tf.keras.layers.Dense(10, activation=tf.nn.softmax)])"
      ],
      "execution_count": 0,
      "outputs": []
    },
    {
      "cell_type": "code",
      "metadata": {
        "id": "bPBdLQsYx8Dv",
        "colab_type": "code",
        "colab": {}
      },
      "source": [
        "model.compile(loss='binary_crossentropy',\n",
        "              optimizer = RMSprop(learning_rate=0.001),\n",
        "              metrics= ['acc'])\n"
      ],
      "execution_count": 0,
      "outputs": []
    },
    {
      "cell_type": "code",
      "metadata": {
        "id": "P8J1hhiry2pC",
        "colab_type": "code",
        "colab": {
          "base_uri": "https://localhost:8080/",
          "height": 1000
        },
        "outputId": "3fe29f0c-2ebc-479b-864c-a3bba15245dd"
      },
      "source": [
        "model.fit(x_train, y_train, epochs=30)"
      ],
      "execution_count": 27,
      "outputs": [
        {
          "output_type": "stream",
          "text": [
            "Train on 50000 samples\n",
            "Epoch 1/30\n",
            "50000/50000 [==============================] - 8s 157us/sample - loss: 1.0880 - acc: 0.8742\n",
            "Epoch 2/30\n",
            "50000/50000 [==============================] - 8s 154us/sample - loss: 0.2615 - acc: 0.9038\n",
            "Epoch 3/30\n",
            "50000/50000 [==============================] - 8s 154us/sample - loss: 0.2525 - acc: 0.9064\n",
            "Epoch 4/30\n",
            "50000/50000 [==============================] - 8s 152us/sample - loss: 0.2470 - acc: 0.9076\n",
            "Epoch 5/30\n",
            "50000/50000 [==============================] - 8s 156us/sample - loss: 0.2437 - acc: 0.9087\n",
            "Epoch 6/30\n",
            "50000/50000 [==============================] - 8s 154us/sample - loss: 0.2418 - acc: 0.9090\n",
            "Epoch 7/30\n",
            "50000/50000 [==============================] - 8s 153us/sample - loss: 0.2403 - acc: 0.9102\n",
            "Epoch 8/30\n",
            "50000/50000 [==============================] - 8s 157us/sample - loss: 0.2390 - acc: 0.9104\n",
            "Epoch 9/30\n",
            "50000/50000 [==============================] - 8s 155us/sample - loss: 0.2384 - acc: 0.9106\n",
            "Epoch 10/30\n",
            "50000/50000 [==============================] - 8s 153us/sample - loss: 0.2372 - acc: 0.9108\n",
            "Epoch 11/30\n",
            "50000/50000 [==============================] - 8s 156us/sample - loss: 0.2375 - acc: 0.9110\n",
            "Epoch 12/30\n",
            "50000/50000 [==============================] - 8s 154us/sample - loss: 0.2373 - acc: 0.9109\n",
            "Epoch 13/30\n",
            "50000/50000 [==============================] - 8s 155us/sample - loss: 0.2365 - acc: 0.9110\n",
            "Epoch 14/30\n",
            "50000/50000 [==============================] - 8s 154us/sample - loss: 0.2363 - acc: 0.9113\n",
            "Epoch 15/30\n",
            "50000/50000 [==============================] - 8s 154us/sample - loss: 0.2352 - acc: 0.9117\n",
            "Epoch 16/30\n",
            "50000/50000 [==============================] - 8s 154us/sample - loss: 0.2354 - acc: 0.9118\n",
            "Epoch 17/30\n",
            "50000/50000 [==============================] - 8s 155us/sample - loss: 0.2351 - acc: 0.9120\n",
            "Epoch 18/30\n",
            "50000/50000 [==============================] - 8s 153us/sample - loss: 0.2358 - acc: 0.9115\n",
            "Epoch 19/30\n",
            "50000/50000 [==============================] - 8s 154us/sample - loss: 0.2354 - acc: 0.9119\n",
            "Epoch 20/30\n",
            "50000/50000 [==============================] - 8s 151us/sample - loss: 0.2358 - acc: 0.9118\n",
            "Epoch 21/30\n",
            "50000/50000 [==============================] - 8s 151us/sample - loss: 0.2358 - acc: 0.9117\n",
            "Epoch 22/30\n",
            "50000/50000 [==============================] - 8s 153us/sample - loss: 0.2357 - acc: 0.9117\n",
            "Epoch 23/30\n",
            "50000/50000 [==============================] - 8s 151us/sample - loss: 0.2370 - acc: 0.9117\n",
            "Epoch 24/30\n",
            "50000/50000 [==============================] - 8s 155us/sample - loss: 0.2357 - acc: 0.9118\n",
            "Epoch 25/30\n",
            "50000/50000 [==============================] - 8s 153us/sample - loss: 0.2359 - acc: 0.9119\n",
            "Epoch 26/30\n",
            "50000/50000 [==============================] - 8s 154us/sample - loss: 0.2359 - acc: 0.9120\n",
            "Epoch 27/30\n",
            "50000/50000 [==============================] - 8s 152us/sample - loss: 0.2360 - acc: 0.9121\n",
            "Epoch 28/30\n",
            "50000/50000 [==============================] - 8s 151us/sample - loss: 0.2354 - acc: 0.9124\n",
            "Epoch 29/30\n",
            "50000/50000 [==============================] - 8s 155us/sample - loss: 0.2359 - acc: 0.9118\n",
            "Epoch 30/30\n",
            "50000/50000 [==============================] - 8s 154us/sample - loss: 0.2361 - acc: 0.9123\n"
          ],
          "name": "stdout"
        },
        {
          "output_type": "execute_result",
          "data": {
            "text/plain": [
              "<tensorflow.python.keras.callbacks.History at 0x7f11ec391080>"
            ]
          },
          "metadata": {
            "tags": []
          },
          "execution_count": 27
        }
      ]
    },
    {
      "cell_type": "code",
      "metadata": {
        "id": "ZTJ8w5GUzc2U",
        "colab_type": "code",
        "colab": {}
      },
      "source": [
        "\n",
        "## Prediction\n",
        "import numpy as np\n",
        "from google.colab import files\n",
        "from keras.preprocessing import image\n"
      ],
      "execution_count": 0,
      "outputs": []
    },
    {
      "cell_type": "code",
      "metadata": {
        "id": "vrZ4DMEh1-XV",
        "colab_type": "code",
        "colab": {
          "base_uri": "https://localhost:8080/",
          "height": 34
        },
        "outputId": "88abaca4-a961-4603-c326-1f283ddc970b"
      },
      "source": [
        "!pwd\n"
      ],
      "execution_count": 29,
      "outputs": [
        {
          "output_type": "stream",
          "text": [
            "/content\n"
          ],
          "name": "stdout"
        }
      ]
    },
    {
      "cell_type": "code",
      "metadata": {
        "id": "eV5aVBi93AZ4",
        "colab_type": "code",
        "colab": {
          "resources": {
            "http://localhost:8080/nbextensions/google.colab/files.js": {
              "data": "Ly8gQ29weXJpZ2h0IDIwMTcgR29vZ2xlIExMQwovLwovLyBMaWNlbnNlZCB1bmRlciB0aGUgQXBhY2hlIExpY2Vuc2UsIFZlcnNpb24gMi4wICh0aGUgIkxpY2Vuc2UiKTsKLy8geW91IG1heSBub3QgdXNlIHRoaXMgZmlsZSBleGNlcHQgaW4gY29tcGxpYW5jZSB3aXRoIHRoZSBMaWNlbnNlLgovLyBZb3UgbWF5IG9idGFpbiBhIGNvcHkgb2YgdGhlIExpY2Vuc2UgYXQKLy8KLy8gICAgICBodHRwOi8vd3d3LmFwYWNoZS5vcmcvbGljZW5zZXMvTElDRU5TRS0yLjAKLy8KLy8gVW5sZXNzIHJlcXVpcmVkIGJ5IGFwcGxpY2FibGUgbGF3IG9yIGFncmVlZCB0byBpbiB3cml0aW5nLCBzb2Z0d2FyZQovLyBkaXN0cmlidXRlZCB1bmRlciB0aGUgTGljZW5zZSBpcyBkaXN0cmlidXRlZCBvbiBhbiAiQVMgSVMiIEJBU0lTLAovLyBXSVRIT1VUIFdBUlJBTlRJRVMgT1IgQ09ORElUSU9OUyBPRiBBTlkgS0lORCwgZWl0aGVyIGV4cHJlc3Mgb3IgaW1wbGllZC4KLy8gU2VlIHRoZSBMaWNlbnNlIGZvciB0aGUgc3BlY2lmaWMgbGFuZ3VhZ2UgZ292ZXJuaW5nIHBlcm1pc3Npb25zIGFuZAovLyBsaW1pdGF0aW9ucyB1bmRlciB0aGUgTGljZW5zZS4KCi8qKgogKiBAZmlsZW92ZXJ2aWV3IEhlbHBlcnMgZm9yIGdvb2dsZS5jb2xhYiBQeXRob24gbW9kdWxlLgogKi8KKGZ1bmN0aW9uKHNjb3BlKSB7CmZ1bmN0aW9uIHNwYW4odGV4dCwgc3R5bGVBdHRyaWJ1dGVzID0ge30pIHsKICBjb25zdCBlbGVtZW50ID0gZG9jdW1lbnQuY3JlYXRlRWxlbWVudCgnc3BhbicpOwogIGVsZW1lbnQudGV4dENvbnRlbnQgPSB0ZXh0OwogIGZvciAoY29uc3Qga2V5IG9mIE9iamVjdC5rZXlzKHN0eWxlQXR0cmlidXRlcykpIHsKICAgIGVsZW1lbnQuc3R5bGVba2V5XSA9IHN0eWxlQXR0cmlidXRlc1trZXldOwogIH0KICByZXR1cm4gZWxlbWVudDsKfQoKLy8gTWF4IG51bWJlciBvZiBieXRlcyB3aGljaCB3aWxsIGJlIHVwbG9hZGVkIGF0IGEgdGltZS4KY29uc3QgTUFYX1BBWUxPQURfU0laRSA9IDEwMCAqIDEwMjQ7Ci8vIE1heCBhbW91bnQgb2YgdGltZSB0byBibG9jayB3YWl0aW5nIGZvciB0aGUgdXNlci4KY29uc3QgRklMRV9DSEFOR0VfVElNRU9VVF9NUyA9IDMwICogMTAwMDsKCmZ1bmN0aW9uIF91cGxvYWRGaWxlcyhpbnB1dElkLCBvdXRwdXRJZCkgewogIGNvbnN0IHN0ZXBzID0gdXBsb2FkRmlsZXNTdGVwKGlucHV0SWQsIG91dHB1dElkKTsKICBjb25zdCBvdXRwdXRFbGVtZW50ID0gZG9jdW1lbnQuZ2V0RWxlbWVudEJ5SWQob3V0cHV0SWQpOwogIC8vIENhY2hlIHN0ZXBzIG9uIHRoZSBvdXRwdXRFbGVtZW50IHRvIG1ha2UgaXQgYXZhaWxhYmxlIGZvciB0aGUgbmV4dCBjYWxsCiAgLy8gdG8gdXBsb2FkRmlsZXNDb250aW51ZSBmcm9tIFB5dGhvbi4KICBvdXRwdXRFbGVtZW50LnN0ZXBzID0gc3RlcHM7CgogIHJldHVybiBfdXBsb2FkRmlsZXNDb250aW51ZShvdXRwdXRJZCk7Cn0KCi8vIFRoaXMgaXMgcm91Z2hseSBhbiBhc3luYyBnZW5lcmF0b3IgKG5vdCBzdXBwb3J0ZWQgaW4gdGhlIGJyb3dzZXIgeWV0KSwKLy8gd2hlcmUgdGhlcmUgYXJlIG11bHRpcGxlIGFzeW5jaHJvbm91cyBzdGVwcyBhbmQgdGhlIFB5dGhvbiBzaWRlIGlzIGdvaW5nCi8vIHRvIHBvbGwgZm9yIGNvbXBsZXRpb24gb2YgZWFjaCBzdGVwLgovLyBUaGlzIHVzZXMgYSBQcm9taXNlIHRvIGJsb2NrIHRoZSBweXRob24gc2lkZSBvbiBjb21wbGV0aW9uIG9mIGVhY2ggc3RlcCwKLy8gdGhlbiBwYXNzZXMgdGhlIHJlc3VsdCBvZiB0aGUgcHJldmlvdXMgc3RlcCBhcyB0aGUgaW5wdXQgdG8gdGhlIG5leHQgc3RlcC4KZnVuY3Rpb24gX3VwbG9hZEZpbGVzQ29udGludWUob3V0cHV0SWQpIHsKICBjb25zdCBvdXRwdXRFbGVtZW50ID0gZG9jdW1lbnQuZ2V0RWxlbWVudEJ5SWQob3V0cHV0SWQpOwogIGNvbnN0IHN0ZXBzID0gb3V0cHV0RWxlbWVudC5zdGVwczsKCiAgY29uc3QgbmV4dCA9IHN0ZXBzLm5leHQob3V0cHV0RWxlbWVudC5sYXN0UHJvbWlzZVZhbHVlKTsKICByZXR1cm4gUHJvbWlzZS5yZXNvbHZlKG5leHQudmFsdWUucHJvbWlzZSkudGhlbigodmFsdWUpID0+IHsKICAgIC8vIENhY2hlIHRoZSBsYXN0IHByb21pc2UgdmFsdWUgdG8gbWFrZSBpdCBhdmFpbGFibGUgdG8gdGhlIG5leHQKICAgIC8vIHN0ZXAgb2YgdGhlIGdlbmVyYXRvci4KICAgIG91dHB1dEVsZW1lbnQubGFzdFByb21pc2VWYWx1ZSA9IHZhbHVlOwogICAgcmV0dXJuIG5leHQudmFsdWUucmVzcG9uc2U7CiAgfSk7Cn0KCi8qKgogKiBHZW5lcmF0b3IgZnVuY3Rpb24gd2hpY2ggaXMgY2FsbGVkIGJldHdlZW4gZWFjaCBhc3luYyBzdGVwIG9mIHRoZSB1cGxvYWQKICogcHJvY2Vzcy4KICogQHBhcmFtIHtzdHJpbmd9IGlucHV0SWQgRWxlbWVudCBJRCBvZiB0aGUgaW5wdXQgZmlsZSBwaWNrZXIgZWxlbWVudC4KICogQHBhcmFtIHtzdHJpbmd9IG91dHB1dElkIEVsZW1lbnQgSUQgb2YgdGhlIG91dHB1dCBkaXNwbGF5LgogKiBAcmV0dXJuIHshSXRlcmFibGU8IU9iamVjdD59IEl0ZXJhYmxlIG9mIG5leHQgc3RlcHMuCiAqLwpmdW5jdGlvbiogdXBsb2FkRmlsZXNTdGVwKGlucHV0SWQsIG91dHB1dElkKSB7CiAgY29uc3QgaW5wdXRFbGVtZW50ID0gZG9jdW1lbnQuZ2V0RWxlbWVudEJ5SWQoaW5wdXRJZCk7CiAgaW5wdXRFbGVtZW50LmRpc2FibGVkID0gZmFsc2U7CgogIGNvbnN0IG91dHB1dEVsZW1lbnQgPSBkb2N1bWVudC5nZXRFbGVtZW50QnlJZChvdXRwdXRJZCk7CiAgb3V0cHV0RWxlbWVudC5pbm5lckhUTUwgPSAnJzsKCiAgY29uc3QgcGlja2VkUHJvbWlzZSA9IG5ldyBQcm9taXNlKChyZXNvbHZlKSA9PiB7CiAgICBpbnB1dEVsZW1lbnQuYWRkRXZlbnRMaXN0ZW5lcignY2hhbmdlJywgKGUpID0+IHsKICAgICAgcmVzb2x2ZShlLnRhcmdldC5maWxlcyk7CiAgICB9KTsKICB9KTsKCiAgY29uc3QgY2FuY2VsID0gZG9jdW1lbnQuY3JlYXRlRWxlbWVudCgnYnV0dG9uJyk7CiAgaW5wdXRFbGVtZW50LnBhcmVudEVsZW1lbnQuYXBwZW5kQ2hpbGQoY2FuY2VsKTsKICBjYW5jZWwudGV4dENvbnRlbnQgPSAnQ2FuY2VsIHVwbG9hZCc7CiAgY29uc3QgY2FuY2VsUHJvbWlzZSA9IG5ldyBQcm9taXNlKChyZXNvbHZlKSA9PiB7CiAgICBjYW5jZWwub25jbGljayA9ICgpID0+IHsKICAgICAgcmVzb2x2ZShudWxsKTsKICAgIH07CiAgfSk7CgogIC8vIENhbmNlbCB1cGxvYWQgaWYgdXNlciBoYXNuJ3QgcGlja2VkIGFueXRoaW5nIGluIHRpbWVvdXQuCiAgY29uc3QgdGltZW91dFByb21pc2UgPSBuZXcgUHJvbWlzZSgocmVzb2x2ZSkgPT4gewogICAgc2V0VGltZW91dCgoKSA9PiB7CiAgICAgIHJlc29sdmUobnVsbCk7CiAgICB9LCBGSUxFX0NIQU5HRV9USU1FT1VUX01TKTsKICB9KTsKCiAgLy8gV2FpdCBmb3IgdGhlIHVzZXIgdG8gcGljayB0aGUgZmlsZXMuCiAgY29uc3QgZmlsZXMgPSB5aWVsZCB7CiAgICBwcm9taXNlOiBQcm9taXNlLnJhY2UoW3BpY2tlZFByb21pc2UsIHRpbWVvdXRQcm9taXNlLCBjYW5jZWxQcm9taXNlXSksCiAgICByZXNwb25zZTogewogICAgICBhY3Rpb246ICdzdGFydGluZycsCiAgICB9CiAgfTsKCiAgaWYgKCFmaWxlcykgewogICAgcmV0dXJuIHsKICAgICAgcmVzcG9uc2U6IHsKICAgICAgICBhY3Rpb246ICdjb21wbGV0ZScsCiAgICAgIH0KICAgIH07CiAgfQoKICBjYW5jZWwucmVtb3ZlKCk7CgogIC8vIERpc2FibGUgdGhlIGlucHV0IGVsZW1lbnQgc2luY2UgZnVydGhlciBwaWNrcyBhcmUgbm90IGFsbG93ZWQuCiAgaW5wdXRFbGVtZW50LmRpc2FibGVkID0gdHJ1ZTsKCiAgZm9yIChjb25zdCBmaWxlIG9mIGZpbGVzKSB7CiAgICBjb25zdCBsaSA9IGRvY3VtZW50LmNyZWF0ZUVsZW1lbnQoJ2xpJyk7CiAgICBsaS5hcHBlbmQoc3BhbihmaWxlLm5hbWUsIHtmb250V2VpZ2h0OiAnYm9sZCd9KSk7CiAgICBsaS5hcHBlbmQoc3BhbigKICAgICAgICBgKCR7ZmlsZS50eXBlIHx8ICduL2EnfSkgLSAke2ZpbGUuc2l6ZX0gYnl0ZXMsIGAgKwogICAgICAgIGBsYXN0IG1vZGlmaWVkOiAkewogICAgICAgICAgICBmaWxlLmxhc3RNb2RpZmllZERhdGUgPyBmaWxlLmxhc3RNb2RpZmllZERhdGUudG9Mb2NhbGVEYXRlU3RyaW5nKCkgOgogICAgICAgICAgICAgICAgICAgICAgICAgICAgICAgICAgICAnbi9hJ30gLSBgKSk7CiAgICBjb25zdCBwZXJjZW50ID0gc3BhbignMCUgZG9uZScpOwogICAgbGkuYXBwZW5kQ2hpbGQocGVyY2VudCk7CgogICAgb3V0cHV0RWxlbWVudC5hcHBlbmRDaGlsZChsaSk7CgogICAgY29uc3QgZmlsZURhdGFQcm9taXNlID0gbmV3IFByb21pc2UoKHJlc29sdmUpID0+IHsKICAgICAgY29uc3QgcmVhZGVyID0gbmV3IEZpbGVSZWFkZXIoKTsKICAgICAgcmVhZGVyLm9ubG9hZCA9IChlKSA9PiB7CiAgICAgICAgcmVzb2x2ZShlLnRhcmdldC5yZXN1bHQpOwogICAgICB9OwogICAgICByZWFkZXIucmVhZEFzQXJyYXlCdWZmZXIoZmlsZSk7CiAgICB9KTsKICAgIC8vIFdhaXQgZm9yIHRoZSBkYXRhIHRvIGJlIHJlYWR5LgogICAgbGV0IGZpbGVEYXRhID0geWllbGQgewogICAgICBwcm9taXNlOiBmaWxlRGF0YVByb21pc2UsCiAgICAgIHJlc3BvbnNlOiB7CiAgICAgICAgYWN0aW9uOiAnY29udGludWUnLAogICAgICB9CiAgICB9OwoKICAgIC8vIFVzZSBhIGNodW5rZWQgc2VuZGluZyB0byBhdm9pZCBtZXNzYWdlIHNpemUgbGltaXRzLiBTZWUgYi82MjExNTY2MC4KICAgIGxldCBwb3NpdGlvbiA9IDA7CiAgICB3aGlsZSAocG9zaXRpb24gPCBmaWxlRGF0YS5ieXRlTGVuZ3RoKSB7CiAgICAgIGNvbnN0IGxlbmd0aCA9IE1hdGgubWluKGZpbGVEYXRhLmJ5dGVMZW5ndGggLSBwb3NpdGlvbiwgTUFYX1BBWUxPQURfU0laRSk7CiAgICAgIGNvbnN0IGNodW5rID0gbmV3IFVpbnQ4QXJyYXkoZmlsZURhdGEsIHBvc2l0aW9uLCBsZW5ndGgpOwogICAgICBwb3NpdGlvbiArPSBsZW5ndGg7CgogICAgICBjb25zdCBiYXNlNjQgPSBidG9hKFN0cmluZy5mcm9tQ2hhckNvZGUuYXBwbHkobnVsbCwgY2h1bmspKTsKICAgICAgeWllbGQgewogICAgICAgIHJlc3BvbnNlOiB7CiAgICAgICAgICBhY3Rpb246ICdhcHBlbmQnLAogICAgICAgICAgZmlsZTogZmlsZS5uYW1lLAogICAgICAgICAgZGF0YTogYmFzZTY0LAogICAgICAgIH0sCiAgICAgIH07CiAgICAgIHBlcmNlbnQudGV4dENvbnRlbnQgPQogICAgICAgICAgYCR7TWF0aC5yb3VuZCgocG9zaXRpb24gLyBmaWxlRGF0YS5ieXRlTGVuZ3RoKSAqIDEwMCl9JSBkb25lYDsKICAgIH0KICB9CgogIC8vIEFsbCBkb25lLgogIHlpZWxkIHsKICAgIHJlc3BvbnNlOiB7CiAgICAgIGFjdGlvbjogJ2NvbXBsZXRlJywKICAgIH0KICB9Owp9CgpzY29wZS5nb29nbGUgPSBzY29wZS5nb29nbGUgfHwge307CnNjb3BlLmdvb2dsZS5jb2xhYiA9IHNjb3BlLmdvb2dsZS5jb2xhYiB8fCB7fTsKc2NvcGUuZ29vZ2xlLmNvbGFiLl9maWxlcyA9IHsKICBfdXBsb2FkRmlsZXMsCiAgX3VwbG9hZEZpbGVzQ29udGludWUsCn07Cn0pKHNlbGYpOwo=",
              "ok": true,
              "headers": [
                [
                  "content-type",
                  "application/javascript"
                ]
              ],
              "status": 200,
              "status_text": ""
            }
          },
          "base_uri": "https://localhost:8080/",
          "height": 142
        },
        "outputId": "b1b7e74b-ad12-4666-c55d-2fc5768a8798"
      },
      "source": [
        "uploaded = files.upload()\n",
        "for fn in uploaded.keys():\n",
        "\n",
        "  path = '/content/'+fn\n",
        "  img = image.load_img(path, target_size=(32,32))\n",
        "  x = image.img_to_array(img)\n",
        "  x = np.expand_dims(x,axis=0)\n",
        "\n",
        "  images = np.vstack([x])\n",
        "  classes = model.predict(images, batch_size=10)\n",
        "  print(classes)\n",
        "\n",
        "\n",
        "\n",
        "classes2 = np.argmax(classes, axis=1)\n",
        "\n",
        "if classes2[0] == 0:\n",
        "  print('Airplane')\n",
        "elif classes2[0] == 1:\n",
        "  print('Automobile')\n",
        "elif classes2[0] == 2:\n",
        "  print('Bird')\n",
        "elif classes2[0] == 3:\n",
        "  print('Cat')\n",
        "elif classes2[0] == 4:\n",
        "  print('Deer')\n",
        "elif classes2[0] == 5:\n",
        "  print('Dog')\n",
        "elif classes2[0] == 6:\n",
        "  print('Frog')\n",
        "elif classes2[0] == 7:\n",
        "  print('Horse')\n",
        "elif classes2[0] == 8:\n",
        "  print('Sheep')\n",
        "elif classes2[0] == 9:\n",
        "  print('Truck')\n",
        "else:\n",
        "  print(\"Can't be Recognized\")\n",
        "\n",
        "print(\"DONE!!!\")\n",
        "\n",
        "\n",
        "\n"
      ],
      "execution_count": 33,
      "outputs": [
        {
          "output_type": "display_data",
          "data": {
            "text/html": [
              "\n",
              "     <input type=\"file\" id=\"files-6aea4da6-12a0-4416-b51b-67df2f1c3fd9\" name=\"files[]\" multiple disabled />\n",
              "     <output id=\"result-6aea4da6-12a0-4416-b51b-67df2f1c3fd9\">\n",
              "      Upload widget is only available when the cell has been executed in the\n",
              "      current browser session. Please rerun this cell to enable.\n",
              "      </output>\n",
              "      <script src=\"/nbextensions/google.colab/files.js\"></script> "
            ],
            "text/plain": [
              "<IPython.core.display.HTML object>"
            ]
          },
          "metadata": {
            "tags": []
          }
        },
        {
          "output_type": "stream",
          "text": [
            "Saving sheep.jpg to sheep.jpg\n",
            "[[0.8485334  0.         0.15146656 0.         0.         0.\n",
            "  0.         0.         0.         0.        ]]\n",
            "Airplane\n",
            "DONE!!!\n"
          ],
          "name": "stdout"
        }
      ]
    },
    {
      "cell_type": "code",
      "metadata": {
        "id": "_CCybsM57dKB",
        "colab_type": "code",
        "colab": {}
      },
      "source": [
        ""
      ],
      "execution_count": 0,
      "outputs": []
    }
  ]
}